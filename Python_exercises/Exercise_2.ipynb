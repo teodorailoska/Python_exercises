{
 "cells": [
  {
   "cell_type": "markdown",
   "id": "661a569c",
   "metadata": {},
   "source": [
    "# Week 2 Workshop"
   ]
  },
  {
   "cell_type": "markdown",
   "id": "b216dcf8",
   "metadata": {},
   "source": [
    "## Matrices"
   ]
  },
  {
   "cell_type": "markdown",
   "id": "23e0f870",
   "metadata": {},
   "source": [
    "#### Defining a matrix in Python with lists:"
   ]
  },
  {
   "cell_type": "code",
   "execution_count": 1,
   "id": "d03c5a52",
   "metadata": {},
   "outputs": [
    {
     "name": "stdout",
     "output_type": "stream",
     "text": [
      "[[1, 2, 3], [4, 5, 6], [7, 8, 9]]\n"
     ]
    }
   ],
   "source": [
    "# Defining a matrix in Python with lists:\n",
    "m = [[1,2,3], \n",
    "     [4,5,6], \n",
    "     [7,8,9]]\n",
    "\n",
    "print(m)"
   ]
  },
  {
   "cell_type": "markdown",
   "id": "61e651f9",
   "metadata": {},
   "source": [
    "#### Accessing elements of a matrix (list of lists) with indexing:"
   ]
  },
  {
   "cell_type": "code",
   "execution_count": 11,
   "id": "2ba7bfab",
   "metadata": {},
   "outputs": [
    {
     "name": "stdout",
     "output_type": "stream",
     "text": [
      "[4, 5, 6]\n",
      "5\n",
      "1\n"
     ]
    }
   ],
   "source": [
    "# Accessing elements of a matrix (list of lists) with indexing:\n",
    "print(m[1])\n",
    "print(m[1][1])\n",
    "\n",
    "print(m[0][0])"
   ]
  },
  {
   "cell_type": "markdown",
   "id": "2c0765bf",
   "metadata": {},
   "source": [
    "#### Accessing elements of a matrix (list of lists) with for loops:"
   ]
  },
  {
   "cell_type": "code",
   "execution_count": 13,
   "id": "0b40bd5f",
   "metadata": {},
   "outputs": [
    {
     "name": "stdout",
     "output_type": "stream",
     "text": [
      "elemnt at position (0,0) is 1\n",
      "elemnt at position (0,1) is 2\n",
      "elemnt at position (0,2) is 3\n",
      "elemnt at position (1,0) is 4\n",
      "elemnt at position (1,1) is 5\n",
      "elemnt at position (1,2) is 6\n",
      "elemnt at position (2,0) is 7\n",
      "elemnt at position (2,1) is 8\n",
      "elemnt at position (2,2) is 9\n"
     ]
    }
   ],
   "source": [
    "# Accessing elements of a matrix (list of lists) with for loops:\n",
    "\n",
    "\n",
    "for idx in range(len(m)):\n",
    "   # print(m[idx])\n",
    "    for jdx in range(len(m[idx])):\n",
    "        print(f'elemnt at position ({idx},{jdx}) is {m[idx][jdx]}')"
   ]
  },
  {
   "cell_type": "markdown",
   "id": "007959e3",
   "metadata": {},
   "source": [
    "#### Function to print a matrix:"
   ]
  },
  {
   "cell_type": "code",
   "execution_count": 2,
   "id": "b5bcd332",
   "metadata": {},
   "outputs": [
    {
     "name": "stdout",
     "output_type": "stream",
     "text": [
      "1\t2\t3\t\n",
      "4\t5\t6\t\n",
      "7\t8\t9\t\n"
     ]
    }
   ],
   "source": [
    "# Function to print a matrix:\n",
    "\n",
    "def print_matrix(m):\n",
    "    for sub_list in m:\n",
    "       # print(sub_list)\n",
    "        for el in sub_list:\n",
    "            print(el, end = '\\t')\n",
    "        print()\n",
    "\n",
    "print_matrix(m)"
   ]
  },
  {
   "cell_type": "code",
   "execution_count": 33,
   "id": "5598ffbe-3740-44b5-93c0-184a4abbf630",
   "metadata": {},
   "outputs": [
    {
     "name": "stdout",
     "output_type": "stream",
     "text": [
      "-2\t-1\t0\t\n",
      "4\t5\t6\t\n",
      "7\t8\t9\t\n"
     ]
    }
   ],
   "source": [
    "m2 = [[-2,-1,0], \n",
    "     [4,5,6], \n",
    "     [7,8,9]]\n",
    "\n",
    "print_matrix(m2)"
   ]
  },
  {
   "cell_type": "markdown",
   "id": "d7f86711",
   "metadata": {},
   "source": [
    "---"
   ]
  },
  {
   "cell_type": "markdown",
   "id": "b8c6352b",
   "metadata": {},
   "source": [
    "# Functions and Matrix Exercises:"
   ]
  },
  {
   "cell_type": "markdown",
   "id": "70bf6926",
   "metadata": {},
   "source": [
    "### Exercise 1: \n",
    "\n",
    "Input values to a matrix row x columns. You enter the number of rows and number of columns."
   ]
  },
  {
   "cell_type": "code",
   "execution_count": 27,
   "id": "c1355bc8-fea7-46f7-ae84-589a8dfab49d",
   "metadata": {},
   "outputs": [
    {
     "name": "stdin",
     "output_type": "stream",
     "text": [
      "Enter number of rows:  3\n",
      "Enter number of columns:  3\n",
      "Value of the element in position 0 0 is:  1\n",
      "Value of the element in position 0 1 is:  2\n",
      "Value of the element in position 0 2 is:  3\n",
      "Value of the element in position 1 0 is:  4\n",
      "Value of the element in position 1 1 is:  5\n",
      "Value of the element in position 1 2 is:  6\n",
      "Value of the element in position 2 0 is:  7\n",
      "Value of the element in position 2 1 is:  8\n",
      "Value of the element in position 2 2 is:  9\n"
     ]
    },
    {
     "name": "stdout",
     "output_type": "stream",
     "text": [
      "1\t2\t3\t\n",
      "4\t5\t6\t\n",
      "7\t8\t9\t\n"
     ]
    }
   ],
   "source": [
    "# My solution:\n",
    "r = int(input(\"Enter number of rows: \"))\n",
    "c = int(input(\"Enter number of columns: \"))\n",
    "\n",
    "def read_matrix(rows,columns):\n",
    "    m = []\n",
    "    \n",
    "    for i in range(rows):\n",
    "        tmp_list = []\n",
    "        for j in range(columns):\n",
    "            el = int(input(f'Value of the element in position {i} {j} is: '))\n",
    "            tmp_list.append(el)\n",
    "        m.append(tmp_list)\n",
    "    return print_matrix(m)\n",
    "\n",
    "\n",
    "read_matrix(r,c)\n",
    "\n"
   ]
  },
  {
   "cell_type": "code",
   "execution_count": 36,
   "id": "5ef2f40d",
   "metadata": {},
   "outputs": [
    {
     "name": "stdin",
     "output_type": "stream",
     "text": [
      "Enter number of rows:  3\n",
      "Enter number of columns:  2\n",
      "Enter the value for elemnt at position: (0, 0) 2\n",
      "Enter the value for elemnt at position: (0, 1) 1\n",
      "Enter the value for elemnt at position: (1, 0) 4\n",
      "Enter the value for elemnt at position: (1, 1) 3\n",
      "Enter the value for elemnt at position: (2, 0) 6\n",
      "Enter the value for elemnt at position: (2, 1) 5\n"
     ]
    },
    {
     "name": "stdout",
     "output_type": "stream",
     "text": [
      "2\t1\t\n",
      "4\t3\t\n",
      "6\t5\t\n"
     ]
    }
   ],
   "source": [
    "# Solution:\n",
    "def read_matrix():\n",
    "    rows = int(input('Enter number of rows: '))\n",
    "    columns = int(input('Enter number of columns: '))\n",
    "    \n",
    "    mat = []\n",
    "    \n",
    "    for idx in range(rows):\n",
    "        tmp_list = []\n",
    "        for jdx in range(columns):\n",
    "            el = int(input(f'Enter the value for elemnt at position: {(idx,jdx)}'))\n",
    "            tmp_list.append(el)\n",
    "        mat.append(tmp_list)\n",
    "    \n",
    "    return mat\n",
    "\n",
    "\n",
    "m = read_matrix()\n",
    "print_matrix(m)"
   ]
  },
  {
   "cell_type": "markdown",
   "id": "10df4375",
   "metadata": {},
   "source": [
    "### Exercise 2:\n",
    "\n",
    "Define a matrix in Python. Find the sum of each row and the sum of each column. Then print the sums and print the entire matrix.\n",
    "    \n",
    "#### Example output:\n",
    "    Output -> sum_row_1 = 3, sum_row_2 = 7\n",
    "              sum_col_1 = 4, sum_col_2 = 6\n",
    "              matrix: \n",
    "              1 2\n",
    "              3 4"
   ]
  },
  {
   "cell_type": "code",
   "execution_count": 97,
   "id": "fc19f7bb-0d33-480c-8797-a5efe3ec7237",
   "metadata": {},
   "outputs": [
    {
     "name": "stdout",
     "output_type": "stream",
     "text": [
      "sum_row_1 = 6, sum_row_2 = 15, sum_row_3 = 24, \n",
      "sum_col_1 = 12, sum_col_2 = 15, sum_col_3 = 18, "
     ]
    }
   ],
   "source": [
    "m = [[1, 2, 3],\n",
    "     [4, 5, 6],\n",
    "     [7, 8, 9]]\n",
    "\n",
    "\n",
    "\n",
    "for i in range(len(m)):\n",
    "    sum_row = 0\n",
    "    for j in range(len(m[i])):\n",
    "        sum_row += m[i][j]\n",
    "    print(f'sum_row_{i + 1} = {sum_row}', end = \", \")\n",
    "\n",
    "print()\n",
    "\n",
    "for i in range(len(m)):\n",
    "    sum_col = 0\n",
    "    for j in range(len(m[0])):\n",
    "        sum_col += m[j][i]\n",
    "    print(f'sum_col_{(j - 1) + i} = {sum_col}', end = \", \")"
   ]
  },
  {
   "cell_type": "markdown",
   "id": "82e9229b",
   "metadata": {},
   "source": [
    "### Exercise 3:\n",
    "\n",
    "Define two matrices in Python with random numbers as values. Write a function that computes and returns the sum of the two matrices.\n",
    "    \n",
    "#### Example output:\n",
    "    Input:\n",
    "                1 2      5 6\n",
    "            A = 3 4, B = 7 8\n",
    "    Output:\n",
    "            6  8\n",
    "            10 12"
   ]
  },
  {
   "cell_type": "code",
   "execution_count": 42,
   "id": "7eba9d33-a5ad-4bd7-ac21-9324e85a1ed8",
   "metadata": {},
   "outputs": [
    {
     "name": "stdout",
     "output_type": "stream",
     "text": [
      "The first matrix is: \n",
      "3\t9\t-8\t8\t-10\t-2\t7\t-5\t\n",
      "-4\t-9\t0\t5\t-7\t-7\t-8\t3\t\n",
      "9\t-9\t7\t1\t-1\t6\t-8\t-7\t\n",
      "-9\t-4\t2\t-3\t-4\t9\t3\t5\t\n",
      "-1\t-2\t9\t4\t-10\t-7\t-3\t4\t\n",
      "0\t10\t5\t-1\t-3\t-10\t5\t-2\t\n",
      "9\t-5\t6\t8\t-9\t7\t-3\t2\t\n",
      "-3\t-2\t-1\t-7\t-6\t9\t10\t0\t\n",
      "\n",
      "The second matrix is: \n",
      "-4\t-1\t-4\t-3\t-2\t-9\t6\t4\t\n",
      "-3\t-7\t1\t6\t-8\t2\t-4\t6\t\n",
      "8\t-7\t7\t-9\t1\t-5\t-8\t9\t\n",
      "10\t-8\t-2\t5\t-2\t-5\t-8\t5\t\n",
      "-8\t4\t-5\t9\t-2\t8\t-3\t-1\t\n",
      "-9\t-4\t-4\t-9\t-9\t-10\t0\t-10\t\n",
      "6\t8\t1\t5\t-5\t-1\t0\t3\t\n",
      "-3\t-8\t5\t6\t0\t-6\t3\t-7\t\n",
      "\n",
      "The final matrix is:\n",
      "-1\t8\t-12\t5\t-12\t-11\t13\t-1\t\n",
      "-7\t-16\t1\t11\t-15\t-5\t-12\t9\t\n",
      "17\t-16\t14\t-8\t0\t1\t-16\t2\t\n",
      "1\t-12\t0\t2\t-6\t4\t-5\t10\t\n",
      "-9\t2\t4\t13\t-12\t1\t-6\t3\t\n",
      "-9\t6\t1\t-10\t-12\t-20\t5\t-12\t\n",
      "15\t3\t7\t13\t-14\t6\t-3\t5\t\n",
      "-6\t-10\t4\t-1\t-6\t3\t13\t-7\t\n"
     ]
    }
   ],
   "source": [
    "import random\n",
    "\n",
    "# This function prints the matrixes for better visualisation\n",
    "def print_matrix(m):\n",
    "    for i in range(len(m)):\n",
    "        for j in range(len(m[i])):\n",
    "            print(m[i][j],end = \"\\t\")\n",
    "        print()\n",
    "\n",
    "# This function calculates the sum of the two matrixes and inputs the sum matrix in new matrix value\n",
    "# The sum of matrix is defined if the rows and the columns are the same for both matrices\n",
    "def sum_matrix(m,n):\n",
    "    if len(m) != len(n) and len(m[0]) != len(n[0]):\n",
    "        return 'Sum of matrix is not defined'\n",
    "    else:\n",
    "        # Your code starts here\n",
    "        t = []\n",
    "        for i in range(len(m)):\n",
    "            r = []\n",
    "            for j in range(len(m[i])):\n",
    "                r.append(m[i][j] + n[i][j])\n",
    "            t.append(r)\n",
    "        return t\n",
    "    \n",
    "# This functons generates random matrix with random rows and columns starting form 2 to 10 for rows and columns and -10 and 10 for values\n",
    "def rand_mat(m,n):\n",
    "    t = random.randint(2,10)\n",
    "    q = random.randint(2,10)\n",
    "    for i in range(t):\n",
    "        r = []\n",
    "        for j in range(t):\n",
    "            r.append(random.randint(-10,10))\n",
    "        m.append(r)\n",
    "\n",
    "    for i in range(q):\n",
    "        r = []\n",
    "        for j in range(q):\n",
    "            r.append(random.randint(-10,10))\n",
    "        n.append(r)\n",
    "\n",
    "        \n",
    "# This is the place where I call the previous created functions:\n",
    "\n",
    "# Here I give empty lists for A and B so I can load them with random matrixes calling the rand_mat function\n",
    "A = []\n",
    "B = []\n",
    "\n",
    "# Here I call the rand_mat fuction to fill A and B\n",
    "rand_mat(A,B)\n",
    "print(\"The first matrix is: \")\n",
    "print_matrix(A)\n",
    "print()\n",
    "\n",
    "\n",
    "print(\"The second matrix is: \")\n",
    "print_matrix(B)\n",
    "print()\n",
    "\n",
    "# Here I load C with the resault of the sum of the matrixes A and B by calling sum_matrix function\n",
    "C = sum_matrix(A,B)\n",
    "\n",
    "# Here I am checking if C is avaliable matrix so it can be printed else I just retrun the C\n",
    "if (C != 'Sum of matrix is not defined'):\n",
    "    print(\"The final matrix is:\")\n",
    "    print_matrix(C)\n",
    "else:\n",
    "    print(C)"
   ]
  },
  {
   "cell_type": "markdown",
   "id": "4a54bcdb",
   "metadata": {},
   "source": [
    "### Exercise 4:\n",
    "\n",
    "Input a row x col (with row and col values of your own choice) matrix with values of your choice using the input function. Write a function that returns the main diagonal of the matrix in a list.\n",
    "    \n",
    "#### Example output:\n",
    "    Input:\n",
    "                1 2 3\n",
    "            A = 4 5 6\n",
    "    Output:\n",
    "            l = [1 5]\n",
    "            \n",
    "Hint: look at the indices of the elements. The main diagonal is the one with indices $i = j$."
   ]
  },
  {
   "cell_type": "code",
   "execution_count": 34,
   "id": "8cbb8546",
   "metadata": {},
   "outputs": [
    {
     "name": "stdin",
     "output_type": "stream",
     "text": [
      "Enter custom number for rows:  2\n",
      "Enter custom number for colums:  3\n",
      "Enter value for 0,0:  1\n",
      "Enter value for 0,1:  2\n",
      "Enter value for 1,0:  3\n",
      "Enter value for 1,1:  4\n",
      "Enter value for 2,0:  5\n",
      "Enter value for 2,1:  6\n"
     ]
    },
    {
     "name": "stdout",
     "output_type": "stream",
     "text": [
      "[[1, 2], [3, 4], [5, 6]]\n",
      "[1, 4]\n"
     ]
    }
   ],
   "source": [
    "# Solution:\n",
    "\n",
    "# In this place I am giving values for rows and column of my own choice \n",
    "rows = int(input(\"Enter custom number for rows: \"))\n",
    "colums = int(input(\"Enter custom number for colums: \"))\n",
    "\n",
    "# I am creating a custom made matrix with rows x colums of the given values above\n",
    "A = []\n",
    "for i in range(colums):\n",
    "    R = []\n",
    "    for j in range(rows):\n",
    "        numbers = int(input(f\"Enter value for {i},{j}: \"))\n",
    "        R.append(numbers)\n",
    "    A.append(R)\n",
    "    \n",
    "print(A)\n",
    "\n",
    "# Here I created a fucntion to return the main diagonal of the matrix that I created previously\n",
    "def main_diagonal(m):\n",
    "    l = []\n",
    "    for i in range(len(m)):\n",
    "        for j in range(len(m[i])):\n",
    "            if(i == j):\n",
    "                l.append(m[i][j])\n",
    "    return l\n",
    "\n",
    "\n",
    "# Here I am calling that funciton\n",
    "print(main_diagonal(A))\n",
    "\n"
   ]
  },
  {
   "cell_type": "markdown",
   "id": "a7df1eb6",
   "metadata": {},
   "source": [
    "### Exercise 5:\n",
    "\n",
    "Input a row x col with row and col values of your own choice matrix with values of your choice using the input function. Write a function that returns the anti-diagonal of the matrix in a list.\n",
    "    \n",
    "#### Example output:\n",
    "    Input:\n",
    "                1 2 3\n",
    "            A = 4 5 6\n",
    "                7 8 9\n",
    "    Output:\n",
    "            l = [3 5 7]\n",
    "                        \n",
    "Hint: look at the indices of the elements. The main diagonal is the one with indices $i = len(col) - i$."
   ]
  },
  {
   "cell_type": "code",
   "execution_count": 24,
   "id": "478d3848-7e48-4914-a44f-868206e53e03",
   "metadata": {},
   "outputs": [
    {
     "name": "stdin",
     "output_type": "stream",
     "text": [
      "Enter custom number for rows:  3\n",
      "Enter custom number for colums:  3\n",
      "Enter value for 0,0:  1\n",
      "Enter value for 0,1:  2\n",
      "Enter value for 0,2:  3\n",
      "Enter value for 1,0:  4\n",
      "Enter value for 1,1:  5\n",
      "Enter value for 1,2:  6\n",
      "Enter value for 2,0:  7\n",
      "Enter value for 2,1:  8\n",
      "Enter value for 2,2:  9\n"
     ]
    },
    {
     "name": "stdout",
     "output_type": "stream",
     "text": [
      "[[1, 2, 3], [4, 5, 6], [7, 8, 9]]\n",
      "[3, 5, 7]\n"
     ]
    }
   ],
   "source": [
    "\n",
    "# In this place I am giving values for rows and column of my own choice \n",
    "rows = int(input(\"Enter custom number for rows: \"))\n",
    "colums = int(input(\"Enter custom number for colums: \"))\n",
    "\n",
    "# I am creating a custom made matrix with rows x colums of the given values above\n",
    "B = []\n",
    "for i in range(colums):\n",
    "    R = []\n",
    "    for j in range(rows):\n",
    "        numbers = int(input(f\"Enter value for {i},{j}: \"))\n",
    "        R.append(numbers)\n",
    "    B.append(R)\n",
    "    \n",
    "print(B)\n",
    "\n",
    "# Here I am making a function to find the counter diagonal\n",
    "# I read that only square matrixes have counter diagonal so I checked if the matrix that I entered is square\n",
    "# If it is not the function will return string that says 'Only square matrixes do not have counter diagonal'\n",
    "def counter_diag(m):\n",
    "    if(len(m[0]) == len(m)):\n",
    "        l = []\n",
    "        for i in range(len(m)):\n",
    "            l.append(m[i][len(m)-i-1])\n",
    "        return l\n",
    "    else:\n",
    "        return 'Only square matrixes have counter diagonal'\n",
    "    \n",
    "# In this part I am calling the function, and I am loading it into a variable named list\n",
    "list = counter_diag(B)\n",
    "\n",
    "# Here I am printing that list\n",
    "print(list)\n"
   ]
  },
  {
   "cell_type": "markdown",
   "id": "9d09776d",
   "metadata": {},
   "source": [
    "## Exercise 6:\n",
    "\n",
    "Define two row x col matrices in Python (define and initialize any arbitrary values for row and col and define the matrix using for loops). Write a function that finds the product of the matrices.\n",
    "    \n",
    "#### Example:\n",
    "    |1 2| * |5 6| = |19 22|\n",
    "    |3 4|   |7 8|   |43 50|"
   ]
  },
  {
   "cell_type": "code",
   "execution_count": 18,
   "id": "2e71a052",
   "metadata": {},
   "outputs": [
    {
     "data": {
      "text/plain": [
       "[[19, 22], [43, 50]]"
      ]
     },
     "execution_count": 18,
     "metadata": {},
     "output_type": "execute_result"
    }
   ],
   "source": [
    "# Solution:\n",
    "def mult_matrix(A, B):\n",
    "    if len(A[0]) != len(B):\n",
    "        return 'Matrix multiplication is not defined'\n",
    "    \n",
    "    m = len(A)\n",
    "    n = len(A[0])\n",
    "    k = len(B[0])\n",
    "    \n",
    "    rez_matr = []\n",
    "    \n",
    "    for idx in range(m):\n",
    "        tmp_list = []\n",
    "        \n",
    "        for jdx in range(k):\n",
    "            row_A = A[idx]\n",
    "            col_B = []\n",
    "            for bIdx in range(k):\n",
    "                col_B.append(B[bIdx][jdx])\n",
    "            \n",
    "            el_i_j = 0\n",
    "            \n",
    "            for kdx in range(k):\n",
    "                el_i_j += row_A[kdx] * col_B[kdx]\n",
    "                \n",
    "            tmp_list.append(el_i_j)\n",
    "            \n",
    "        rez_matr.append(tmp_list)\n",
    "        \n",
    "    return rez_matr\n",
    "\n",
    "mult_matrix([[1,2],[3,4]],[[5,6],[7,8]])"
   ]
  },
  {
   "cell_type": "markdown",
   "id": "69f6730b",
   "metadata": {},
   "source": [
    "## Exercise 7:\n",
    "\n",
    "Write a function that returns a list of random numbers (generated by `random.randint(a, b)` function) between -100 and 100. Then write a second function that takes the returned list from the first function as an argument and returns a list of only the positive numbers in the input list.\n",
    "\n",
    "Solve it using only list comprehensions."
   ]
  },
  {
   "cell_type": "code",
   "execution_count": 23,
   "id": "56ced24b",
   "metadata": {},
   "outputs": [
    {
     "name": "stdout",
     "output_type": "stream",
     "text": [
      "[44, 90, -50, -92, -98, 58, 16, -18, 52, -90]\n",
      "[44, 90, 58, 16, 52]\n"
     ]
    }
   ],
   "source": [
    "# Solution:\n",
    "# I am importing the random modul\n",
    "import random\n",
    "\n",
    "# This funcion it generates a random list with integers betweeen -10 and 10\n",
    "def generate_random(n):\n",
    "    # n is the number of elements in the list\n",
    "    # Here I am returnig a list with n elemnts of random numbers between -100 and 100\n",
    "    return [random.randint(-100,100) for el in range(n)]\n",
    "\n",
    "# This function returns only the positive generated nmbers from the list\n",
    "def positive_random(lista):\n",
    "    return [el for el in lista if el >= 0]\n",
    "\n",
    "# here I made a list of 10 elemnts between -10 and 10\n",
    "l = generate_random(10)\n",
    "print(l)\n",
    "\n",
    "# Her I callde the other functio to return only the positive values form that list\n",
    "print(positive_random(l))"
   ]
  },
  {
   "cell_type": "markdown",
   "id": "198963f8",
   "metadata": {},
   "source": [
    "## Exercise 8:\n",
    "\n",
    "Create a dictionary that counts the number of occurrences of each non-whitespace character in the sentence, where the key is the character and value is the number.\n",
    "\n",
    "sentence = \"the quick brown fox jumps over the lazy dog\" \n",
    "\n",
    "Tips:\n",
    "- Convert the sentence to a list of characters\n",
    "- You can use `list.count(elem)` to count the how many times an element is in the list\n",
    "- Use comprehensions (list, dict).\n",
    "    - [ expression for item in list if conditional ] List\n",
    "    - { expression for item in list if conditional } Dict <a>#expression must be a valid dict key:value pair</a>"
   ]
  },
  {
   "cell_type": "code",
   "execution_count": 21,
   "id": "202c51f6",
   "metadata": {},
   "outputs": [
    {
     "name": "stdin",
     "output_type": "stream",
     "text": [
      "Enter string:  the quick brown fox jumps over the lazy dog\n"
     ]
    },
    {
     "name": "stdout",
     "output_type": "stream",
     "text": [
      "{'t': 2, 'h': 2, 'e': 3, 'q': 1, 'u': 2, 'i': 1, 'c': 1, 'k': 1, 'b': 1, 'r': 2, 'o': 4, 'w': 1, 'n': 1, 'f': 1, 'x': 1, 'j': 1, 'm': 1, 'p': 1, 's': 1, 'v': 1, 'l': 1, 'a': 1, 'z': 1, 'y': 1, 'd': 1, 'g': 1}\n"
     ]
    }
   ],
   "source": [
    "# Solution:\n",
    "# I am importing the string module to access translate function so I can remove the white spaces in the string\n",
    "import string\n",
    "\n",
    "# This function returns dictionary by using comeperhention method\n",
    "def char_count(st):\n",
    "    # here I am casting the converted string with nonwhitespaces into list\n",
    "    \n",
    "    st = list(st.translate({ord(c): None for c in string.whitespace}))\n",
    "    \n",
    "    # This is with clasic comperhension\n",
    "    return {elem:st.count(elem) for elem in st}\n",
    "    \n",
    "    # I made this return with dict(zip()) function : st is the key and this loop , [st.count(elem) for elem in st], is the value\n",
    "    #return dict(zip(st,[st.count(elem) for elem in st]))\n",
    "\n",
    "st = input(\"Enter string: \")\n",
    "# Here I am calling that fucntion wuth st variable\n",
    "print(char_count(st))\n"
   ]
  },
  {
   "cell_type": "markdown",
   "id": "8dcdc024",
   "metadata": {},
   "source": [
    "---"
   ]
  },
  {
   "cell_type": "markdown",
   "id": "4492547f",
   "metadata": {},
   "source": [
    "## Bonus Exercise:\n",
    "\n",
    "a) Create a function that generates a list of 5 elements and returns that list. The elements should be defined on specific position in the list as following:\n",
    "\n",
    "- Index 0 : random `int` in range `[-10, 10]`,\n",
    "- Index 1 : string `f'The random integer is {x}'`, where `x` is the random integer generated for index 0,\n",
    "- Index 2 : list of 7 random `float` values in range `[0, 1]` defined as a comprehension,\n",
    "- Index 3 : `dict` of the first 5 prime numbers (keys are the prime numbers casted to string and values are the prime numbers themselves) defined by a comprehension (to determine whether a number is prime you need to find if it is divisible by 1 and itself `only` - write a separate function that does this and you will call it to determine whether a number is prime (returns `True`) or not (returns `False`),\n",
    "- Index 4 : `set` of random integers in the range `[-10, 10]` defined by a comprehension.\n",
    "\n",
    "b) Write a function that uses the generated function from a) and iterate over all elements from that list. Depending on the output (use separate if conditions to check the type of an element), performing the following actions:\n",
    "\n",
    "- If an element is of type `int`, check if it is negative and change it to positive,\n",
    "- if an element is of type `str`, reverse the string,\n",
    "- If an element is of type `list`, find the minimum, maximum, and sort the list in an ascending order,\n",
    "- If an element is of type `dict` reverse the items (keys become values and values become keys) using a comprehension,\n",
    "- If an element is of type `set` extract all positive and negative numbers into 2 separate sets.\n",
    "\n",
    "Hint: you can use `isinstance(a, b)` or `type()` to check the type of the return value"
   ]
  },
  {
   "cell_type": "code",
   "execution_count": 20,
   "id": "924e22db-4ff4-4012-9662-7858120ad462",
   "metadata": {},
   "outputs": [
    {
     "name": "stdout",
     "output_type": "stream",
     "text": [
      "[7, 'The random integer is 7', [0.9060518070833798, 0.27669959609993666, 0.08321155532198754, 0.22577010286511467, 0.9665488505753025, 0.9512129085735759, 0.6094687280335211], {'2': 2, '3': 3, '5': 5, '7': 7, '11': 11}, {2, 6, 7, 8, -1, -6, -4, -3, -2}]\n",
      "\n",
      "[7, '7 si regetni modnar ehT', 0.08321155532198754, 0.9665488505753025, [0.08321155532198754, 0.22577010286511467, 0.27669959609993666, 0.6094687280335211, 0.9060518070833798, 0.9512129085735759, 0.9665488505753025], {2: '2', 3: '3', 5: '5', 7: '7', 11: '11'}, {8, 2, 6, 7}, {-2, -6, -4, -3, -1}]\n"
     ]
    }
   ],
   "source": [
    "import random,math\n",
    "\n",
    "# Here I made a function to check if the given number is primary number\n",
    "def is_prime(n):\n",
    "    prime_flag = 0\n",
    "    if n > 1:\n",
    "        for i in range(2,int(math.sqrt(n)) + 1):\n",
    "            if (n % i == 0):\n",
    "                prime_flag = 1\n",
    "        if(prime_flag == 0):\n",
    "            return True\n",
    "        else:\n",
    "            return False\n",
    "    else:\n",
    "        return False\n",
    "\n",
    "  # Here I made a fucntion to generate the needed list\n",
    "def generate_list():\n",
    "    integer = 0\n",
    "    lista = []\n",
    "    for i in range(5):\n",
    "        \n",
    "        if i == 0:\n",
    "            integer = random.randint(-10,10)\n",
    "            lista.append(integer)\n",
    "            \n",
    "        elif i == 1:\n",
    "            lista.append(f'The random integer is {integer}')\n",
    "            \n",
    "        elif i == 2:\n",
    "            lista.append([random.uniform(0,1) for k in range(7)])\n",
    "            \n",
    "        elif i == 3:\n",
    "            dicts = {}\n",
    "            for elem in range(12):\n",
    "                # Here I am using that function to check if the elemnt in for loop is primary number\n",
    "                if is_prime(elem):\n",
    "                    dicts[elem] = elem\n",
    "            keys_values = dicts.items()\n",
    "            dicts = {str(key):value for key,value in keys_values}\n",
    "            lista.append(dicts)\n",
    "            \n",
    "        elif i == 4:\n",
    "            lista.append({random.randint(-10,10) for elem in range(10)})\n",
    "    \n",
    "    return lista\n",
    "\n",
    "# Here I made a function that returns a new list and prints the generated list form before\n",
    "def check_list():\n",
    "    \n",
    "    # Here I am calling the generate_list() function to generate the needed list\n",
    "    l = generate_list()\n",
    "    l_new = []\n",
    "    \n",
    "    # I am also rinting that list for making comparrison between the two l and l_new, that will later be loaded\n",
    "    print(l)\n",
    "    print()\n",
    "    \n",
    "    for elem in l:\n",
    "        # Checks if the elemnt in list l is integer\n",
    "        if type(elem) is int:\n",
    "            # Checks if that integer is positive or negative and it adds the absolute value of that \n",
    "            # elemnt in a new list if its negative, or the same elemnt if it's positive\n",
    "            if elem < 0:\n",
    "                l_new.append(abs(elem))\n",
    "            else:\n",
    "                l_new.append(elem)\n",
    "            \n",
    "        # Checks if the elemnt in the list is string\n",
    "        elif type(elem) is str:\n",
    "            # It reverses that string and it adds that element into the new list\n",
    "            l_new.append(elem[::-1])\n",
    "        \n",
    "        # Checks if the elemnt in the list is list\n",
    "        elif type(elem) is list:\n",
    "            min_list = elem[0]\n",
    "            max_list = 0\n",
    "            \n",
    "            # Here the list is sorted in ascending order\n",
    "            elem.sort()\n",
    "            for el in elem:\n",
    "                if(el > max_list):\n",
    "                    max_list = el\n",
    "                if(el < min_list):\n",
    "                    min_list = el \n",
    "            \n",
    "            # It adds min value in new ist of that list in elemnt\n",
    "            l_new.append(min_list)\n",
    "            \n",
    "            # It adds the max value in new list of that list in elemnt\n",
    "            l_new.append(max_list)\n",
    "            \n",
    "            # It adds the the list sorted before in ascending order\n",
    "            l_new.append(elem)\n",
    "            \n",
    "        # Checks if the elemnt is dictionary\n",
    "        elif type(elem) is dict:\n",
    "            # It changes the value of keys into the value of values and vice versa and they are added into the new list\n",
    "            l_new.append({v:k for k,v in elem.items()})\n",
    "            \n",
    "        # Checks if the elemnt is set\n",
    "        elif type(elem) is set:\n",
    "            s_positive = set()\n",
    "            s_negative = set()\n",
    "            \n",
    "            # Here it checks if the elemnts in the set are positive or negative\n",
    "            \n",
    "            for el in elem:\n",
    "                # If they are positive, the empty set ,s_positive , is loaded with positive elemnts form the set \n",
    "                if(el >= 0):\n",
    "                    s_positive.add(el)\n",
    "                    \n",
    "                # If they are negative, the empty set ,s_negative , is loaded with negative elemnts form the set \n",
    "                elif(el < 0):\n",
    "                    s_negative.add(el)\n",
    "                    \n",
    "            # Here the s_positive set is added in the new list\n",
    "            l_new.append(s_positive)\n",
    "            \n",
    "            # Here the s_negative set is added in the new list\n",
    "            l_new.append(s_negative)\n",
    "            \n",
    "    return l_new\n",
    "\n",
    "\n",
    "# Here I am caling the second function\n",
    "print(check_list())\n"
   ]
  },
  {
   "cell_type": "code",
   "execution_count": null,
   "id": "b4881294-a223-43cb-9100-f9d6671a4b90",
   "metadata": {},
   "outputs": [],
   "source": []
  }
 ],
 "metadata": {
  "kernelspec": {
   "display_name": "Python 3 (ipykernel)",
   "language": "python",
   "name": "python3"
  },
  "language_info": {
   "codemirror_mode": {
    "name": "ipython",
    "version": 3
   },
   "file_extension": ".py",
   "mimetype": "text/x-python",
   "name": "python",
   "nbconvert_exporter": "python",
   "pygments_lexer": "ipython3",
   "version": "3.10.9"
  }
 },
 "nbformat": 4,
 "nbformat_minor": 5
}
