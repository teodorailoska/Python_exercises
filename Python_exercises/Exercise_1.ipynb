{
 "cells": [
  {
   "cell_type": "markdown",
   "id": "846fea3b",
   "metadata": {},
   "source": [
    "# Homework"
   ]
  },
  {
   "cell_type": "markdown",
   "id": "de139d6d",
   "metadata": {},
   "source": [
    "---"
   ]
  },
  {
   "cell_type": "markdown",
   "id": "ecc5060b",
   "metadata": {},
   "source": [
    "## Exercises"
   ]
  },
  {
   "cell_type": "markdown",
   "id": "90c0ebf4",
   "metadata": {},
   "source": [
    "**Note**: write the program as clearly as possible, so that the user knows exactly what to do and another programmer will understand the code quickly. This goes for all exercises."
   ]
  },
  {
   "cell_type": "markdown",
   "id": "a3aa688f",
   "metadata": {},
   "source": [
    "### Exercise 1 (1 point)\n",
    "\n",
    "Ask a user to input two numbers. Is it true that their sum and product are the same?\n",
    "\n",
    "#### Examples:\n",
    "- `2 + 2 == 2 * 2` => `True`\n",
    "- `3 + 3 == 3 * 3` => `False`"
   ]
  },
  {
   "cell_type": "code",
   "execution_count": 14,
   "id": "bd27da50",
   "metadata": {},
   "outputs": [
    {
     "name": "stdin",
     "output_type": "stream",
     "text": [
      "Enter the first number:  3\n",
      "Enter the second number:  3\n"
     ]
    },
    {
     "name": "stdout",
     "output_type": "stream",
     "text": [
      "False\n"
     ]
    }
   ],
   "source": [
    "# Solution\n",
    "# Dodeluvanje na boroevi\n",
    "x = int(input('Enter the first number: '))\n",
    "y = int(input('Enter the second number: '))\n",
    "\n",
    "# Check if the sum and multiplication of two numbers istis equal\n",
    "# if they are equal print True if not print False\n",
    "if(x + y == x * y):\n",
    "    print(True)\n",
    "else:\n",
    "    print(False)\n"
   ]
  },
  {
   "cell_type": "markdown",
   "id": "59561fad",
   "metadata": {},
   "source": [
    "---"
   ]
  },
  {
   "cell_type": "markdown",
   "id": "dfdce96d",
   "metadata": {},
   "source": [
    "### Exercise 2 (1 point)\n",
    "\n",
    "Ask a user to enter any text of letters, integers, etc. Then, count the number of letters and integers that are in the text.\n",
    "    \n",
    "#### Examples:\n",
    "- `text 1` => `# of letters: 4, # of integers 1`\n",
    "- `text ` => `# of letters: 4, # of integers 0`"
   ]
  },
  {
   "cell_type": "code",
   "execution_count": 3,
   "id": "1f503efb",
   "metadata": {},
   "outputs": [
    {
     "name": "stdin",
     "output_type": "stream",
     "text": [
      " Teodora 123\n"
     ]
    },
    {
     "name": "stdout",
     "output_type": "stream",
     "text": [
      "# of letter: 7, # of integers: 3\n"
     ]
    }
   ],
   "source": [
    "# Solution\n",
    "string = input('')\n",
    "digit = 0\n",
    "alpha = 0\n",
    "\n",
    "# ja napraviv so koristenje na vgradenite funkcii isdigit() i isalpha()\n",
    "# isdigit proveruva dali ima cifra vo stringot\n",
    "# isalpha proveruva dali ima karakteri vo stringot\n",
    "\n",
    "for s in string:\n",
    "    if(s.isdigit()):\n",
    "        digit += 1\n",
    "    if(s.isalpha()):\n",
    "        alpha += 1\n",
    "        \n",
    "print(f'# of letter: {alpha}, # of integers: {digit}')\n",
    "\n",
    "\n"
   ]
  },
  {
   "cell_type": "markdown",
   "id": "8e620352",
   "metadata": {},
   "source": [
    "### Exercise 3 (1.5 points)\n",
    "\n",
    "Enter an integer. Write a program to count the total number of digits in the integer. You should not use the built-in function `len()`\n",
    "    \n",
    "#### Examples:\n",
    "- `478281`=> `# of digits: 6`\n",
    "- `123` => `# of digits: 3`"
   ]
  },
  {
   "cell_type": "code",
   "execution_count": 41,
   "id": "a6b74d87",
   "metadata": {},
   "outputs": [
    {
     "name": "stdin",
     "output_type": "stream",
     "text": [
      "Please enter number:  12314\n"
     ]
    },
    {
     "name": "stdout",
     "output_type": "stream",
     "text": [
      "# of digits: 5\n"
     ]
    }
   ],
   "source": [
    "# Solution\n",
    "n = int(input('Please enter number: '))\n",
    "\n",
    "# Write your code below\n",
    "countDigits = 0\n",
    "\n",
    "for el in str(n):\n",
    "    countDigits += 1\n",
    "\n",
    "print(f'# of digits: {countDigits}')"
   ]
  },
  {
   "cell_type": "markdown",
   "id": "365703d3",
   "metadata": {},
   "source": [
    "---"
   ]
  },
  {
   "cell_type": "markdown",
   "id": "31333688",
   "metadata": {},
   "source": [
    "### Exercise 4 (1.5 point)\n",
    "\n",
    "Ask for a user to enter any text. Then reverse the order of the text and show the result. \n",
    "    \n",
    "#### Examples:\n",
    "- `text` => `txet`\n",
    "- `Brainster` => `retsniarB`"
   ]
  },
  {
   "cell_type": "code",
   "execution_count": 43,
   "id": "3770345e",
   "metadata": {},
   "outputs": [
    {
     "name": "stdin",
     "output_type": "stream",
     "text": [
      "Enter random text:  Brainster\n"
     ]
    },
    {
     "name": "stdout",
     "output_type": "stream",
     "text": [
      "retsniarB\n"
     ]
    }
   ],
   "source": [
    "#Solution\n",
    "string = input('Enter random text: ')\n",
    "\n",
    "print(string[::-1])\n",
    "\n"
   ]
  },
  {
   "cell_type": "markdown",
   "id": "2d9204b5",
   "metadata": {},
   "source": [
    "---"
   ]
  },
  {
   "cell_type": "markdown",
   "id": "23552b9d",
   "metadata": {},
   "source": [
    "### Exercise 5 (5 points)\n",
    "Given the info about students (see the code block below), answer the following questions:\n",
    "- What is the average number of points that all students received for the projects? (1 point)\n",
    "- What is the average number of points per student? (1.5 point)\n",
    "- Who is the best student i.e the student with the highest average points? (2.5 points)"
   ]
  },
  {
   "cell_type": "code",
   "execution_count": 9,
   "id": "6b648598",
   "metadata": {},
   "outputs": [
    {
     "name": "stdout",
     "output_type": "stream",
     "text": [
      "The average points for John that studies Computer Science is: 65.8\n",
      "The average points for Shelly that studies Computer Science is: 75.0\n",
      "The average points for Pat that studies Computer Science is: 71.2\n",
      "The average points for Sam that studies Computer Science is: 74.6\n",
      "The average points for Jeffrey that studies Computer Science is: 78.2\n",
      "The average points for Irene that studies Computer Science is: 84.4\n",
      "The average points for Mary that studies Computer Science is: 68.2\n",
      "The average points for Molly that studies Computer Science is: 72.6\n",
      "The average points for Beth that studies Computer Science is: 77.8\n",
      "The average points for Jonathan that studies Computer Science is: 61.6\n",
      "\n",
      "Vkupniot prosek sto go osovile site studenti zaedno e: 72.94000000000001\n",
      "The best student is  Irene with: 84.4 points\n"
     ]
    }
   ],
   "source": [
    "# Solution\n",
    "students = [{\"student\": \"John\", \"course\": \"Computer Science\",\n",
    "             \"projects\": [{\"Project 1\": 93}, {\"Project 2\": 70}, {\"Project 3\": 70}, {\"Project 4\": 56},\n",
    "                          {\"Project 5\": 40}]}, \n",
    "            \n",
    "            {\"student\": \"Shelly\", \"course\": \"Computer Science\",\n",
    "             \"projects\": [{\"Project 1\": 73}, {\"Project 2\": 94}, {\"Project 3\": 99},\n",
    "                          {\"Project 4\": 45}, {\"Project 5\": 64}]},\n",
    "            \n",
    "            {\"student\": \"Pat\", \"course\": \"Computer Science\",\n",
    "             \"projects\": [{\"Project 1\": 94}, {\"Project 2\": 50}, {\"Project 3\": 80}, {\"Project 4\": 44},\n",
    "                          {\"Project 5\": 88}]}, \n",
    "            \n",
    "            {\"student\": \"Sam\", \"course\": \"Computer Science\",\n",
    "             \"projects\": [{\"Project 1\": 76}, {\"Project 2\": 95}, {\"Project 3\": 63},\n",
    "                          {\"Project 4\": 48}, {\"Project 5\": 91}]},\n",
    "            \n",
    "            {\"student\": \"Jeffrey\", \"course\": \"Computer Science\",\n",
    "             \"projects\": [{\"Project 1\": 96}, {\"Project 2\": 75}, {\"Project 3\": 100}, {\"Project 4\": 45},\n",
    "                          {\"Project 5\": 75}]}, \n",
    "            \n",
    "            {\"student\": \"Irene\", \"course\": \"Computer Science\",\n",
    "             \"projects\": [{\"Project 1\": 86}, {\"Project 2\": 65}, {\"Project 3\": 88},\n",
    "                          {\"Project 4\": 95}, {\"Project 5\": 88}]},\n",
    "            \n",
    "            {\"student\": \"Mary\", \"course\": \"Computer Science\",\n",
    "             \"projects\": [{\"Project 1\": 65}, {\"Project 2\": 94}, {\"Project 3\": 43}, {\"Project 4\": 94},\n",
    "                          {\"Project 5\": 45}]}, \n",
    "            \n",
    "            {\"student\": \"Molly\", \"course\": \"Computer Science\",\n",
    "             \"projects\": [{\"Project 1\": 68}, {\"Project 2\": 98}, {\"Project 3\": 82},\n",
    "                          {\"Project 4\": 55}, {\"Project 5\": 60}]},\n",
    "            \n",
    "            {\"student\": \"Beth\", \"course\": \"Computer Science\",\n",
    "             \"projects\": [{\"Project 1\": 64}, {\"Project 2\": 94}, {\"Project 3\": 62}, {\"Project 4\": 77},\n",
    "                          {\"Project 5\": 92}]}, \n",
    "            \n",
    "            {\"student\": \"Jonathan\", \"course\": \"Computer Science\",\n",
    "             \"projects\": [{\"Project 1\": 100}, {\"Project 2\": 66}, {\"Project 3\": 55},\n",
    "                          {\"Project 4\": 45}, {\"Project 5\": 42}]}]\n",
    "\n",
    "\n",
    "\n",
    "students1 = [{\"student\": \"John\", \"course\": \"Computer Science\",\n",
    "               \"projects\": [{\"Project 1\": 93}, {\"Project 2\": 70}, {\"Project 3\": 70}, {\"Project 4\": 56},\n",
    "                          {\"Project 5\": 40}]},\n",
    "            {\"student\": \"Jonathan\", \"course\": \"Computer Science\",\n",
    "             \"projects\": [{\"Project 1\": 100}, {\"Project 2\": 66}, {\"Project 3\": 55},\n",
    "                          {\"Project 4\": 45}, {\"Project 5\": 42}]}]\n",
    "\n",
    "# Write your code below\n",
    "\n",
    "sumStudents = 0\n",
    "maxAvg = 0\n",
    "maxIme = ''\n",
    "\n",
    "# First I am making iteration in the list\n",
    "for st in students:\n",
    "    brojac = 0\n",
    "    ime = ''\n",
    "    course = ''\n",
    "    # Here I accessed all the values from the given dictionary\n",
    "    for v in st.values():\n",
    "        \n",
    "        # Here I made a counter so I can accsess the indexes from the values of the dicitnary\n",
    "        brojac += 1\n",
    "        \n",
    "        # In the first if I am filling the value ime with the name of the student seperately\n",
    "        if brojac == 1:\n",
    "            ime = v\n",
    "        \n",
    "        # In the second if I am filling the course that they are studying\n",
    "        if brojac == 2:\n",
    "            course = v\n",
    "            \n",
    "        # In the third if I am accessing the list with dicitnaries inside\n",
    "        if(brojac == 3):\n",
    "            suma = 0\n",
    "            avg = 0\n",
    "            # Here I am counting the average score perstudent\n",
    "            for l in v:\n",
    "                l = list(l.values())\n",
    "                suma += l[0]\n",
    "            avg = suma/5\n",
    "        # Here I am typing the name, course and score for each student\n",
    "    print(f'The average points for {ime} that studies {course} is: {avg}')\n",
    "    \n",
    "    # Here I am counting the sum of all points of the students\n",
    "    sumStudents += avg\n",
    "    \n",
    "     # Here I am finding the studing with the most points\n",
    "    if(avg > maxAvg):\n",
    "        maxAvg = avg\n",
    "        maxIme = ime\n",
    "        \n",
    "\n",
    "            \n",
    "print()\n",
    "# Here I am writing the average score for all students\n",
    "print(f'Vkupniot prosek sto go osovile site studenti zaedno e: {sumStudents/10}')\n",
    "\n",
    "\n",
    "# Here I am writing the student's name and points that has the max points\n",
    "print(f'The best student is  {maxIme} with: {maxAvg} points')\n"
   ]
  },
  {
   "cell_type": "code",
   "execution_count": null,
   "id": "fba2a959-4f83-4ada-9e6b-1f70513085c5",
   "metadata": {},
   "outputs": [],
   "source": []
  }
 ],
 "metadata": {
  "kernelspec": {
   "display_name": "Python 3 (ipykernel)",
   "language": "python",
   "name": "python3"
  },
  "language_info": {
   "codemirror_mode": {
    "name": "ipython",
    "version": 3
   },
   "file_extension": ".py",
   "mimetype": "text/x-python",
   "name": "python",
   "nbconvert_exporter": "python",
   "pygments_lexer": "ipython3",
   "version": "3.10.9"
  }
 },
 "nbformat": 4,
 "nbformat_minor": 5
}
